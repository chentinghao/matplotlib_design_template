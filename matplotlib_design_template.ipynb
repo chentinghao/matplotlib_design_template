{
 "cells": [
  {
   "cell_type": "markdown",
   "metadata": {},
   "source": [
    "# Reference: https://matplotlib.org/users/customizing.html"
   ]
  },
  {
   "cell_type": "code",
   "execution_count": 1,
   "metadata": {
    "scrolled": true
   },
   "outputs": [],
   "source": [
    "import random\n",
    "import pandas as pd\n",
    "import numpy as np\n",
    "import matplotlib.pyplot as plt\n",
    "import matplotlib as mpl\n",
    "from cycler import cycler\n",
    "# plt.style.available\n",
    "# plt.style.use('ggplot')"
   ]
  },
  {
   "cell_type": "code",
   "execution_count": 2,
   "metadata": {},
   "outputs": [],
   "source": [
    "date_range = pd.date_range(\"2017-01-01\", \"2018-12-31\", freq=\"M\")\n",
    "date_size = len(date_range)\n",
    "data = pd.DataFrame({\n",
    "    'date': date_range,\n",
    "    'index': \"a\",\n",
    "    'true': np.sin(np.linspace(0, 2 * np.pi, date_size)),\n",
    "    'predict': np.sin(np.linspace(0, 2 * np.pi, date_size)) + np.random.normal(0, 0.1, date_size),\n",
    "    'strength': [random.randint(1, 101) for x in range(date_size)],\n",
    "    })"
   ]
  },
  {
   "cell_type": "markdown",
   "metadata": {},
   "source": [
    "# Colors\n",
    "See https://matplotlib.org/api/_as_gen/matplotlib.pyplot.colors.html for more information.\n",
    "- a matplotlib color string, such as r, k https://matplotlib.org/examples/color/named_colors.html\n",
    "- a rgb tuple, such as (1.0, 0.5, 0.0) \n",
    "- a hex string, such as ff00ff\n",
    "- a scalar grayscale intensity such as 0.75 \n",
    "- a legal html color name, e.g., red, blue, darkslategray"
   ]
  },
  {
   "cell_type": "markdown",
   "metadata": {},
   "source": [
    "# FONT\n",
    "font properties used by text.Text.  \n",
    "\n",
    "See http://matplotlib.org/api/font_manager_api.html for more information on font properties.  \n",
    "\n",
    "The 6 font properties used for font matching are given below with their default values.\n",
    "\n",
    "The font.family property has five values: 'serif' (e.g., Times),\n",
    "'sans-serif' (e.g., Helvetica), 'cursive' (e.g., Zapf-Chancery),\n",
    "'fantasy' (e.g., Western), and 'monospace' (e.g., Courier).  Each of\n",
    "these font families has a default list of font names in decreasing\n",
    "order of priority associated with them.  When text.usetex is False,\n",
    "font.family may also be one or more concrete font names.\n",
    "\n",
    "The font.style property has three values: normal (or roman), italic\n",
    "or oblique.  The oblique style will be used for italic, if it is not\n",
    "present.\n",
    "\n",
    "The font.variant property has two values: normal or small-caps.  For\n",
    "TrueType fonts, which are scalable fonts, small-caps is equivalent\n",
    "to using a font size of 'smaller', or about 83%% of the current font\n",
    "size.\n",
    "\n",
    "The font.weight property has effectively 13 values: normal, bold,\n",
    "bolder, lighter, 100, 200, 300, ..., 900.  Normal is the same as\n",
    "400, and bold is 700.  bolder and lighter are relative values with\n",
    "respect to the current weight.\n",
    "\n",
    "The font.stretch property has 11 values: ultra-condensed,\n",
    "extra-condensed, condensed, semi-condensed, normal, semi-expanded,\n",
    "expanded, extra-expanded, ultra-expanded, wider, and narrower.  This\n",
    "property is not currently implemented.\n",
    "\n",
    "The font.size property is the default font size for text, given in pts.\n",
    "10 pt is the standard value.\n"
   ]
  },
  {
   "cell_type": "markdown",
   "metadata": {},
   "source": [
    "# Overall parameters"
   ]
  },
  {
   "cell_type": "code",
   "execution_count": 3,
   "metadata": {},
   "outputs": [],
   "source": [
    "x_figsize = 15  # x figure size\n",
    "font_size = 15 * 4 / 3  # font size"
   ]
  },
  {
   "cell_type": "markdown",
   "metadata": {},
   "source": [
    "# FIGURE\n",
    "See http://matplotlib.org/api/figure_api.html#matplotlib.figure.Figure"
   ]
  },
  {
   "cell_type": "code",
   "execution_count": 4,
   "metadata": {},
   "outputs": [],
   "source": [
    "mpl.rcParams['figure.titlesize'] = 'large'  # size of the figure title (Figure.suptitle())\n",
    "mpl.rcParams['figure.titleweight'] = 'normal'  # weight of the figure title\n",
    "mpl.rcParams['figure.figsize'] = x_figsize, x_figsize * 2 / 3  # figure size in inches\n",
    "mpl.rcParams['figure.dpi'] = 100  # figure dots per inch\n",
    "mpl.rcParams['figure.facecolor'] = 'white'   # figure facecolor; 0.75 is scalar gray\n",
    "mpl.rcParams['figure.edgecolor'] = 'white'   # figure edgecolor\n",
    "mpl.rcParams['figure.autolayout'] = False  # When True, automatically adjust subplot parameters to make the plot fit the figure\n",
    "mpl.rcParams['figure.max_open_warning'] = 20  # The maximum number of figures to open through the pyplot interface before emitting a warning. If less than one this feature is disabled.\n",
    "mpl.rcParams['figure.subplot.left'] = 0.125  # the left side of the subplots of the figure\n",
    "mpl.rcParams['figure.subplot.right'] = 0.9    # the right side of the subplots of the figure\n",
    "mpl.rcParams['figure.subplot.bottom'] = 0.11  # the bottom of the subplots of the figure\n",
    "mpl.rcParams['figure.subplot.top'] = 0.88  # the top of the subplots of the figure\n",
    "mpl.rcParams['figure.subplot.wspace'] = 0.2  # the amount of width reserved for blank space between subplots, expressed as a fraction of the average axis width\n",
    "mpl.rcParams['figure.subplot.hspace'] = 0.2  # the amount of height reserved for white space between subplots, expressed as a fraction of the average axis height"
   ]
  },
  {
   "cell_type": "markdown",
   "metadata": {},
   "source": [
    "# LINES\n",
    "See http://matplotlib.org/api/artist_api.html#module-matplotlib.lines for more information on line properties."
   ]
  },
  {
   "cell_type": "code",
   "execution_count": 5,
   "metadata": {},
   "outputs": [],
   "source": [
    "mpl.rcParams['lines.linewidth'] = 2  # line width in points\n",
    "mpl.rcParams['lines.linestyle'] = '-'  # solid line\n",
    "mpl.rcParams['lines.marker'] = None  # the default marker\n",
    "mpl.rcParams['lines.markeredgewidth'] = 1.0  # the line width around the marker symbol\n",
    "mpl.rcParams['lines.markersize'] = 6  # markersize, in points\n",
    "mpl.rcParams['lines.dash_joinstyle'] = 'miter'  # miter|round|bevel\n",
    "mpl.rcParams['lines.dash_capstyle'] = 'butt'  # butt|round|projecting\n",
    "mpl.rcParams['lines.solid_joinstyle'] = 'miter'  # miter|round|bevel\n",
    "mpl.rcParams['lines.solid_capstyle'] = 'projecting'  # butt|round|projecting\n",
    "mpl.rcParams['lines.antialiased'] = True  # render lines in antialiased (no jaggies)\n",
    "mpl.rcParams['lines.dashed_pattern'] = 2.8, 1.2\n",
    "mpl.rcParams['lines.dashdot_pattern'] = 4.8, 1.2, 0.8, 1.2\n",
    "mpl.rcParams['lines.dotted_pattern'] = 1.1, 1.1\n",
    "mpl.rcParams['lines.scale_dashes'] = True\n",
    "mpl.rcParams['markers.fillstyle'] = 'full'  # full|left|right|bottom|top|none"
   ]
  },
  {
   "cell_type": "markdown",
   "metadata": {},
   "source": [
    "# AXES\n",
    "default face and edge color, default tick sizes, default fontsizes for ticklabels, and so on.  \n",
    "\n",
    "See http://matplotlib.org/api/axes_api.html#module-matplotlib.axes"
   ]
  },
  {
   "cell_type": "code",
   "execution_count": 6,
   "metadata": {},
   "outputs": [],
   "source": [
    "mpl.rcParams['axes.facecolor'] = 'w'  # axes background color\n",
    "mpl.rcParams['axes.edgecolor'] = 'k'  # black   # axes edge color\n",
    "mpl.rcParams['axes.linewidth'] = 0.8  # edge linewidth\n",
    "mpl.rcParams['axes.grid'] = False   # display grid or not\n",
    "mpl.rcParams['axes.titlesize'] = 'large'   # fontsize of the axes title\n",
    "mpl.rcParams['axes.titlepad'] = 6.0  # pad between axes and title in points\n",
    "mpl.rcParams['axes.labelsize'] = 'medium'  # fontsize of the x any y labels\n",
    "mpl.rcParams['axes.labelpad'] = 4.0  # space between label and axis\n",
    "mpl.rcParams['axes.labelweight'] = 'normal'  # weight of the x and y labels\n",
    "mpl.rcParams['axes.labelcolor'] = 'k'\n",
    "mpl.rcParams['axes.axisbelow'] = 'line'  # draw axis gridlines and ticks below patches (True); above patches but below lines ('line'); or above all (False)\n",
    "mpl.rcParams['axes.formatter.limits'] = -7, 7  # use scientific notation if log10 of the axis range is smaller than the first or larger than the second\n",
    "mpl.rcParams['axes.formatter.use_locale'] = False  # When True, format tick labels according to the user's locale. For example, use ',' as a decimal separator in the fr_FR locale.\n",
    "mpl.rcParams['axes.formatter.use_mathtext'] = False  # When True, use mathtext for scientific notation.\n",
    "mpl.rcParams['axes.formatter.useoffset'] = True  # If True, the tick label formatter will default to labeling ticks relative to an offset when the data range is small compared to the minimum absolute value of the data.\n",
    "mpl.rcParams['axes.formatter.offset_threshold'] = 4  # When useoffset is True, the offset will be used when it can remove at least this number of significant digits from tick labels.\n",
    "mpl.rcParams['axes.spines.left'] = True  # display axis spines\n",
    "mpl.rcParams['axes.spines.bottom'] = True\n",
    "mpl.rcParams['axes.spines.right'] = True\n",
    "mpl.rcParams['axes.unicode_minus'] = True  # use unicode for the minus symbol rather than hyphen.  See http://en.wikipedia.org/wiki/Plus_and_minus_signs#Character_codes\n",
    "mpl.rcParams['axes.prop_cycle'] = cycler('color', ['r', 'k', 'g', 'b', 'm', 'c']) # color cycle for plot lines as list of string colorspecs: single letter, long name, or web-style hex\n",
    "mpl.rcParams['axes.xmargin'] = 0.05  # x margin.  See `axes.Axes.margins`\n",
    "mpl.rcParams['axes.ymargin'] = 0.05  # y margin See `axes.Axes.margins`\n",
    "mpl.rcParams['polaraxes.grid'] = True  # display grid on polar axes\n",
    "mpl.rcParams['axes3d.grid'] = True  # display grid on 3d axes\n",
    "# mpl.rcParams['xes.spines.top'] = True\n",
    "# mpl.rcParams['axes.autolimit_mode'] = data # How to scale axes limits to the data. Use \"data\" to use data limits, plus some margin. Use \"round_number\" move to the nearest \"round\" number"
   ]
  },
  {
   "cell_type": "markdown",
   "metadata": {},
   "source": [
    "# TICKS\n",
    "see http://matplotlib.org/api/axis_api.html#matplotlib.axis.Tick"
   ]
  },
  {
   "cell_type": "code",
   "execution_count": 7,
   "metadata": {},
   "outputs": [],
   "source": [
    "mpl.rcParams['xtick.top'] = False  # draw ticks on the top side\n",
    "mpl.rcParams['xtick.bottom'] = True   # draw ticks on the bottom side\n",
    "mpl.rcParams['xtick.major.size'] = 3.5      # major tick size in points\n",
    "mpl.rcParams['xtick.minor.size'] = 2      # minor tick size in points\n",
    "mpl.rcParams['xtick.major.width'] = 0.8    # major tick width in points\n",
    "mpl.rcParams['xtick.minor.width'] = 0.6    # minor tick width in points\n",
    "mpl.rcParams['xtick.major.pad'] = 3.5      # distance to major tick label in points\n",
    "mpl.rcParams['xtick.minor.pad'] = 3.4      # distance to the minor tick label in points\n",
    "mpl.rcParams['xtick.color']  = 'k'      # color of the tick labels\n",
    "mpl.rcParams['xtick.labelsize'] = 'medium' # fontsize of the tick labels\n",
    "mpl.rcParams['xtick.direction'] = 'out'    # direction: in, out, or inout\n",
    "mpl.rcParams['xtick.minor.visible'] = False  # visibility of minor ticks on x-axis\n",
    "mpl.rcParams['xtick.major.top'] = True   # draw x axis top major ticks\n",
    "mpl.rcParams['xtick.major.bottom'] = True   # draw x axis bottom major ticks\n",
    "mpl.rcParams['xtick.minor.top'] = True   # draw x axis top minor ticks\n",
    "mpl.rcParams['xtick.minor.bottom'] = True   # draw x axis bottom minor ticks\n",
    "mpl.rcParams['ytick.left'] = True  # draw ticks on the left side\n",
    "mpl.rcParams['ytick.right'] = False  # draw ticks on the right side\n",
    "mpl.rcParams['ytick.major.size'] = 3.5      # major tick size in points\n",
    "mpl.rcParams['ytick.minor.size'] = 2      # minor tick size in points\n",
    "mpl.rcParams['ytick.major.width'] = 0.8    # major tick width in points\n",
    "mpl.rcParams['ytick.minor.width'] = 0.6    # minor tick width in points\n",
    "mpl.rcParams['ytick.major.pad'] = 3.5      # distance to major tick label in points\n",
    "mpl.rcParams['ytick.minor.pad'] = 3.4      # distance to the minor tick label in points\n",
    "mpl.rcParams['ytick.color'] = 'k'  # color of the tick labels\n",
    "mpl.rcParams['ytick.labelsize'] = 'medium'  # fontsize of the tick labels\n",
    "mpl.rcParams['ytick.direction'] = 'out'  # direction: in, out, or inout\n",
    "mpl.rcParams['ytick.minor.visible'] = False  # visibility of minor ticks on y-axis\n",
    "mpl.rcParams['ytick.major.left'] = True   # draw y axis left major ticks\n",
    "mpl.rcParams['ytick.major.right'] = True   # draw y axis right major ticks\n",
    "mpl.rcParams['ytick.minor.left'] = True   # draw y axis left minor ticks\n",
    "mpl.rcParams['ytick.minor.right'] = True   # draw y axis right minor ticks"
   ]
  },
  {
   "cell_type": "markdown",
   "metadata": {},
   "source": [
    "# LEGEND"
   ]
  },
  {
   "cell_type": "code",
   "execution_count": 8,
   "metadata": {},
   "outputs": [],
   "source": [
    "mpl.rcParams['legend.loc'] = 'best'\n",
    "mpl.rcParams['legend.frameon'] = True  # if True, draw the legend on a background patch\n",
    "mpl.rcParams['legend.framealpha'] = 0.8  # legend patch transparency\n",
    "mpl.rcParams['legend.facecolor'] = 'inherit'  # inherit from axes.facecolor; or color spec\n",
    "mpl.rcParams['legend.edgecolor'] = 'w'  # background patch boundary color\n",
    "mpl.rcParams['legend.fancybox'] = True  # if True, use a rounded box for the legend background, else a rectangle\n",
    "mpl.rcParams['legend.shadow'] = False  # if True, give background a shadow effect\n",
    "mpl.rcParams['legend.numpoints'] = 1  # the number of marker points in the legend line\n",
    "mpl.rcParams['legend.scatterpoints'] = 1  # number of scatter points\n",
    "mpl.rcParams['legend.markerscale'] = 1.0  # the relative size of legend markers vs. original\n",
    "mpl.rcParams['legend.fontsize'] = 'medium'\n",
    "mpl.rcParams['legend.borderpad'] = 0.4  # border whitespace\n",
    "mpl.rcParams['legend.labelspacing'] = 0.5  # the vertical space between the legend entries\n",
    "mpl.rcParams['legend.handlelength'] = 2.0  # the length of the legend lines\n",
    "mpl.rcParams['legend.handleheight'] = 0.7  # the height of the legend handle\n",
    "mpl.rcParams['legend.handletextpad'] = 0.8  # the space between the legend line and legend text\n",
    "mpl.rcParams['legend.borderaxespad'] = 0.5  # the border between the axes and legend edge\n",
    "mpl.rcParams['legend.columnspacing'] = 2.0  # column separation"
   ]
  },
  {
   "cell_type": "markdown",
   "metadata": {},
   "source": [
    "# PATCHES\n",
    "Patches are graphical objects that fill 2D space, like polygons or circles.\n",
    "\n",
    "See http://matplotlib.org/api/artist_api.html#module-matplotlib.patches information on patch properties"
   ]
  },
  {
   "cell_type": "code",
   "execution_count": 9,
   "metadata": {},
   "outputs": [],
   "source": [
    "mpl.rcParams['patch.linewidth'] = 1  # edge width in points.\n",
    "mpl.rcParams['patch.facecolor'] = 'C0'\n",
    "mpl.rcParams['patch.edgecolor'] = 'black'  # if forced, or patch is not filled\n",
    "mpl.rcParams['patch.force_edgecolor'] = False  # True to always use edgecolor\n",
    "mpl.rcParams['patch.antialiased'] = True  # render patches in antialiased (no jaggies)"
   ]
  },
  {
   "cell_type": "markdown",
   "metadata": {},
   "source": [
    "# HATCHES"
   ]
  },
  {
   "cell_type": "code",
   "execution_count": 10,
   "metadata": {},
   "outputs": [],
   "source": [
    "# mpl.rcParams['hatch.color'] = 'k'\n",
    "# mpl.rcParams['hatch.linewidth'] = 1.0"
   ]
  },
  {
   "cell_type": "markdown",
   "metadata": {},
   "source": [
    "# GRIDS"
   ]
  },
  {
   "cell_type": "code",
   "execution_count": 11,
   "metadata": {},
   "outputs": [],
   "source": [
    "# mpl.rcParams['grid.color'] = 'b0b0b0'  # grid color\n",
    "# mpl.rcParams['grid.linestyle'] = '-'  # solid\n",
    "# mpl.rcParams['grid.linewidth'] = 0.8  # in points\n",
    "# mpl.rcParams['grid.alpha'] = 1.0  # transparency, between 0.0 and 1.0"
   ]
  },
  {
   "cell_type": "markdown",
   "metadata": {},
   "source": [
    "# SCATTER PLOTS"
   ]
  },
  {
   "cell_type": "code",
   "execution_count": 12,
   "metadata": {},
   "outputs": [],
   "source": [
    "mpl.rcParams['scatter.marker'] = 'o'  # The default marker type for scatter plots."
   ]
  },
  {
   "cell_type": "markdown",
   "metadata": {},
   "source": [
    "# TEXT\n",
    "text properties used by text.Text. See http://matplotlib.org/api/artist_api.html#module-matplotlib.text for more information on text properties"
   ]
  },
  {
   "cell_type": "code",
   "execution_count": 13,
   "metadata": {},
   "outputs": [
    {
     "name": "stderr",
     "output_type": "stream",
     "text": [
      "/Users/chentinghao/anaconda3/lib/python3.6/site-packages/matplotlib/__init__.py:918: MatplotlibDeprecationWarning: text.dvipnghack is obsolete. Please remove it from your matplotlibrc and/or style files.\n",
      "  mplDeprecation)\n"
     ]
    }
   ],
   "source": [
    "mpl.rcParams['text.color'] = 'black'\n",
    "\n",
    "# LaTeX customizations. See http://wiki.scipy.org/Cookbook/Matplotlib/UsingTex\n",
    "mpl.rcParams['text.usetex'] = False  # use latex for all text handling. The following fonts are supported through the usual rc parameter settings: new century schoolbook, bookman, times, palatino, zapf chancery, charter, serif, sans-serif, helvetica, avant garde, courier, monospace, computer modern roman, computer modern sans serif, computer modern typewriter. If another font is desired which can loaded using the LaTeX usepackage command, please inquire at the matplotlib mailing list.\n",
    "mpl.rcParams['text.latex.unicode'] = False # use \"ucs\" and \"inputenc\" LaTeX packages for handling unicode strings.\n",
    "mpl.rcParams['text.dvipnghack'] = None  # some versions of dvipng don't handle alpha channel properly.  Use True to correct and flush ~/.matplotlib/tex.cache before testing and False to force correction off.  None will try and guess based on your dvipng version\n",
    "mpl.rcParams['text.hinting'] = 'auto'   # May be one of the following: 'none': Perform no hinting, 'auto': Use FreeType's autohinter, 'native': Use the hinting information in the font file, if available, and if your FreeType library supports it 'either': Use the native hinting information, or the autohinter if none is available. For backward compatibility, this value may also be True === 'auto' or False === 'none'.\n",
    "mpl.rcParams['text.hinting_factor'] = 8  # Specifies the amount of softness for hinting in the horizontal direction.  A value of 1 will hint to full pixels.  A value of 2 will hint to half pixels etc.\n",
    "mpl.rcParams['text.antialiased'] = True # If True (default), the text will be antialiased. This only affects the Agg backend.\n",
    "mpl.rcParams['mathtext.cal'] = 'cursive'\n",
    "mpl.rcParams['mathtext.rm'] = 'serif'\n",
    "mpl.rcParams['mathtext.tt'] = 'monospace'\n",
    "mpl.rcParams['mathtext.it'] = 'serif:italic'\n",
    "mpl.rcParams['mathtext.bf'] = 'serif:bold'\n",
    "mpl.rcParams['mathtext.sf'] = 'sans'\n",
    "mpl.rcParams['mathtext.fontset'] = 'dejavusans'  # Should be 'dejavusans' (default), 'dejavuserif', 'cm' (Computer Modern), 'stix', 'stixsans' or 'custom'\n",
    "mpl.rcParams['mathtext.fallback_to_cm'] = True  # When True, use symbols from the Computer Modern fonts when a symbol can not be found in one of the custom math fonts.\n",
    "mpl.rcParams['mathtext.default'] = 'it' # The default font to use for math. Can be any of the LaTeX font names, including the special name \"regular\" for the same font used in regular text.\n",
    "# mpl.rcParams['text.latex.preamble'] = ? # IMPROPER USE OF THIS FEATURE WILL LEAD TO LATEX FAILURES AND IS THEREFORE UNSUPPORTED. PLEASE DO NOT ASK FOR HELP. IF THIS FEATURE DOES NOT DO WHAT YOU EXPECT IT TO. preamble is a comma separated list of LaTeX statements that are included in the LaTeX document preamble. An example: text.latex.preamble : usepackage{bm}, usepackage{euler}. The following packages are always loaded with usetex, so beware of package collisions: color, geometry, graphicx, type1cm, textcomp. Adobe Postscript (PSSNFS) font packages may also be loaded, depending on your font settings"
   ]
  },
  {
   "cell_type": "markdown",
   "metadata": {},
   "source": [
    "# Plot"
   ]
  },
  {
   "cell_type": "code",
   "execution_count": 14,
   "metadata": {},
   "outputs": [
    {
     "data": {
      "image/png": "[encoded data removed]",
      "text/plain": [
       "<Figure size 1500x1000 with 1 Axes>"
      ]
     },
     "metadata": {},
     "output_type": "display_data"
    }
   ],
   "source": [
    "fig, ax = plt.subplots()\n",
    "ax.plot(data[\"date\"].values, data[\"true\"].values, label=\"True\")\n",
    "ax.plot(data[\"date\"].values, data[\"predict\"].values, label=\"Predict\")\n",
    "plt.gray()\n",
    "ax.scatter(\n",
    "    data[\"date\"].values, \n",
    "    data[\"predict\"].values, \n",
    "    label=\"Promotion Strength\", \n",
    "    c=1 - data[\"strength\"].values\n",
    ")\n",
    "ax.legend()\n",
    "ax.set_title(\"Index: {}\".format(data[\"index\"][0]))\n",
    "ax.set_xlabel(\"Date\")\n",
    "ax.set_ylabel(\"Value\")\n",
    "ax.tick_params()\n",
    "plt.show()"
   ]
  },
  {
   "cell_type": "code",
   "execution_count": null,
   "metadata": {},
   "outputs": [],
   "source": []
  },
  {
   "cell_type": "code",
   "execution_count": null,
   "metadata": {},
   "outputs": [],
   "source": []
  },
  {
   "cell_type": "code",
   "execution_count": null,
   "metadata": {},
   "outputs": [],
   "source": []
  },
  {
   "cell_type": "markdown",
   "metadata": {},
   "source": []
  },
  {
   "cell_type": "markdown",
   "metadata": {},
   "source": [
    "# Boxplot"
   ]
  },
  {
   "cell_type": "code",
   "execution_count": 15,
   "metadata": {},
   "outputs": [],
   "source": [
    "# mpl.rcParams['boxplot.notch'] = False\n",
    "# mpl.rcParams['boxplot.vertical'] = True\n",
    "# mpl.rcParams['boxplot.whiskers'] = 1.5\n",
    "# mpl.rcParams['boxplot.bootstrap'] = None\n",
    "# mpl.rcParams['boxplot.patchartist'] = False\n",
    "# mpl.rcParams['boxplot.showmeans'] = False\n",
    "# mpl.rcParams['boxplot.showcaps'] = True\n",
    "# mpl.rcParams['boxplot.showbox'] = True\n",
    "# mpl.rcParams['boxplot.showfliers'] = True\n",
    "# mpl.rcParams['boxplot.meanline'] = False\n",
    "# mpl.rcParams['boxplot.flierprops.color'] = 'k'\n",
    "# mpl.rcParams['boxplot.flierprops.marker'] = 'o'\n",
    "# mpl.rcParams['boxplot.flierprops.markerfacecolor'] = 'none'\n",
    "# mpl.rcParams['boxplot.flierprops.markeredgecolor'] = 'k'\n",
    "# mpl.rcParams['boxplot.flierprops.markersize'] = 6\n",
    "# mpl.rcParams['boxplot.flierprops.linestyle'] = 'none'\n",
    "# mpl.rcParams['boxplot.flierprops.linewidth'] = 1.0\n",
    "# mpl.rcParams['boxplot.boxprops.color'] = 'k'\n",
    "# mpl.rcParams['boxplot.boxprops.linewidth'] = 1.0\n",
    "# mpl.rcParams['boxplot.boxprops.linestyle'] = '-'\n",
    "# mpl.rcParams['boxplot.whiskerprops.color'] = 'k'\n",
    "# mpl.rcParams['boxplot.whiskerprops.linewidth'] = 1.0\n",
    "# mpl.rcParams['boxplot.whiskerprops.linestyle'] = '-'\n",
    "# mpl.rcParams['boxplot.capprops.color'] = 'k'\n",
    "# mpl.rcParams['boxplot.capprops.linewidth'] = 1.0\n",
    "# mpl.rcParams['boxplot.capprops.linestyle'] = '-'\n",
    "# mpl.rcParams['boxplot.medianprops.color'] = 'C1'\n",
    "# mpl.rcParams['boxplot.medianprops.linewidth'] = 1.0\n",
    "# mpl.rcParams['boxplot.medianprops.linestyle'] = '-'\n",
    "# mpl.rcParams['boxplot.meanprops.color'] = 'C2'\n",
    "# mpl.rcParams['boxplot.meanprops.marker'] = '^'\n",
    "# mpl.rcParams['boxplot.meanprops.markerfacecolor'] = 'C2'\n",
    "# mpl.rcParams['boxplot.meanprops.markeredgecolor'] = 'C2'\n",
    "# mpl.rcParams['boxplot.meanprops.markersize'] = 6\n",
    "# mpl.rcParams['boxplot.meanprops.linestyle'] = 'none'\n",
    "# mpl.rcParams['boxplot.meanprops.linewidth'] = 1.0"
   ]
  },
  {
   "cell_type": "markdown",
   "metadata": {},
   "source": [
    "# DATES\n",
    "These control the default format strings used in AutoDateFormatter.\n",
    "\n",
    "Any valid format datetime format string can be used (see the python `datetime` for details).  For example using '%%x' will use the locale date representation '%%X' will use the locale time representation and '%%c' will use the full locale datetime representation.\n",
    "\n",
    "These values map to the scales: {'year': 365, 'month': 30, 'day': 1, 'hour': 1/24, 'minute': 1 / (24 * 60)}"
   ]
  },
  {
   "cell_type": "code",
   "execution_count": 16,
   "metadata": {},
   "outputs": [],
   "source": [
    "# date.autoformatter.year     : %Y\n",
    "# date.autoformatter.month    : %Y-%m\n",
    "# date.autoformatter.day      : %Y-%m-%d\n",
    "# date.autoformatter.hour     : %m-%d %H\n",
    "# date.autoformatter.minute   : %d %H:%M\n",
    "# date.autoformatter.second   : %H:%M:%S\n",
    "# date.autoformatter.microsecond   : %M:%S.%f"
   ]
  },
  {
   "cell_type": "markdown",
   "metadata": {},
   "source": [
    "# IMAGES"
   ]
  },
  {
   "cell_type": "code",
   "execution_count": 17,
   "metadata": {},
   "outputs": [],
   "source": [
    "#image.aspect : equal             # equal | auto | a number\n",
    "#image.interpolation  : nearest   # see help(imshow) for options\n",
    "#image.cmap   : viridis           # A colormap name, gray etc...\n",
    "#image.lut    : 256               # the size of the colormap lookup table\n",
    "#image.origin : upper             # lower | upper\n",
    "#image.resample  : True\n",
    "#image.composite_image : True     # When True, all the images on a set of axes are\n",
    "                                  # combined into a single composite image before\n",
    "                                  # saving a figure as a vector graphics file,\n",
    "                                  # such as a PDF."
   ]
  },
  {
   "cell_type": "markdown",
   "metadata": {},
   "source": [
    "# CONTOUR PLOTS"
   ]
  },
  {
   "cell_type": "code",
   "execution_count": 18,
   "metadata": {},
   "outputs": [],
   "source": [
    "#contour.negative_linestyle : dashed # dashed | solid\n",
    "#contour.corner_mask        : True   # True | False | legacy"
   ]
  },
  {
   "cell_type": "markdown",
   "metadata": {},
   "source": [
    "# ERRORBAR PLOTS"
   ]
  },
  {
   "cell_type": "code",
   "execution_count": 19,
   "metadata": {},
   "outputs": [],
   "source": [
    "#errorbar.capsize : 0             # length of end cap on error bars in pixels"
   ]
  },
  {
   "cell_type": "markdown",
   "metadata": {},
   "source": [
    "# HISTOGRAM PLOTS"
   ]
  },
  {
   "cell_type": "code",
   "execution_count": 20,
   "metadata": {},
   "outputs": [],
   "source": [
    "#hist.bins : 10                   # The default number of histogram bins.\n",
    "                                  # If Numpy 1.11 or later is\n",
    "                                  # installed, may also be `auto`"
   ]
  },
  {
   "cell_type": "markdown",
   "metadata": {},
   "source": [
    "# Agg rendering\n",
    "Warning: experimental, 2008/10/10"
   ]
  },
  {
   "cell_type": "code",
   "execution_count": 21,
   "metadata": {},
   "outputs": [],
   "source": [
    "#agg.path.chunksize : 0           # 0 to disable; values in the range\n",
    "                                  # 10000 to 100000 can improve speed slightly\n",
    "                                  # and prevent an Agg rendering failure\n",
    "                                  # when plotting very large data sets,\n",
    "                                  # especially if they are very gappy.\n",
    "                                  # It may cause minor artifacts, though.\n",
    "                                  # A value of 20000 is probably a good\n",
    "                                  # starting point."
   ]
  },
  {
   "cell_type": "markdown",
   "metadata": {},
   "source": [
    "# SAVING FIGURES"
   ]
  },
  {
   "cell_type": "code",
   "execution_count": 22,
   "metadata": {},
   "outputs": [],
   "source": [
    "#path.simplify : True   # When True, simplify paths by removing \"invisible\"\n",
    "                        # points to reduce file size and increase rendering\n",
    "                        # speed\n",
    "#path.simplify_threshold : 0.1  # The threshold of similarity below which\n",
    "                                # vertices will be removed in the simplification\n",
    "                                # process\n",
    "#path.snap : True # When True, rectilinear axis-aligned paths will be snapped to\n",
    "                  # the nearest pixel when certain criteria are met.  When False,\n",
    "                  # paths will never be snapped.\n",
    "#path.sketch : None # May be none, or a 3-tuple of the form (scale, length,\n",
    "                    # randomness).\n",
    "                    # *scale* is the amplitude of the wiggle\n",
    "                    # perpendicular to the line (in pixels).  *length*\n",
    "                    # is the length of the wiggle along the line (in\n",
    "                    # pixels).  *randomness* is the factor by which\n",
    "                    # the length is randomly scaled.\n",
    "\n",
    "# the default savefig params can be different from the display params\n",
    "# e.g., you may want a higher resolution, or to make the figure\n",
    "# background white\n",
    "#savefig.dpi         : figure   # figure dots per inch or 'figure'\n",
    "#savefig.facecolor   : white    # figure facecolor when saving\n",
    "#savefig.edgecolor   : white    # figure edgecolor when saving\n",
    "#savefig.format      : png      # png, ps, pdf, svg\n",
    "#savefig.bbox        : standard # 'tight' or 'standard'.\n",
    "                                # 'tight' is incompatible with pipe-based animation\n",
    "                                # backends but will workd with temporary file based ones:\n",
    "                                # e.g. setting animation.writer to ffmpeg will not work,\n",
    "                                # use ffmpeg_file instead\n",
    "#savefig.pad_inches  : 0.1      # Padding to be used when bbox is set to 'tight'\n",
    "#savefig.jpeg_quality: 95       # when a jpeg is saved, the default quality parameter.\n",
    "#savefig.directory   : ~        # default directory in savefig dialog box,\n",
    "                                # leave empty to always use current working directory\n",
    "#savefig.transparent : False    # setting that controls whether figures are saved with a\n",
    "                                # transparent background by default\n",
    "\n",
    "# tk backend params\n",
    "#tk.window_focus   : False    # Maintain shell focus for TkAgg\n",
    "\n",
    "# ps backend params\n",
    "#ps.papersize      : letter   # auto, letter, legal, ledger, A0-A10, B0-B10\n",
    "#ps.useafm         : False    # use of afm fonts, results in small files\n",
    "#ps.usedistiller   : False    # can be: None, ghostscript or xpdf\n",
    "                                          # Experimental: may produce smaller files.\n",
    "                                          # xpdf intended for production of publication quality files,\n",
    "                                          # but requires ghostscript, xpdf and ps2eps\n",
    "#ps.distiller.res  : 6000      # dpi\n",
    "#ps.fonttype       : 3         # Output Type 3 (Type3) or Type 42 (TrueType)\n",
    "\n",
    "# pdf backend params\n",
    "#pdf.compression   : 6 # integer from 0 to 9\n",
    "                       # 0 disables compression (good for debugging)\n",
    "#pdf.fonttype       : 3         # Output Type 3 (Type3) or Type 42 (TrueType)\n",
    "\n",
    "# svg backend params\n",
    "#svg.image_inline : True       # write raster image data directly into the svg file\n",
    "#svg.fonttype : 'path'         # How to handle SVG fonts:\n",
    "#    'none': Assume fonts are installed on the machine where the SVG will be viewed.\n",
    "#    'path': Embed characters as paths -- supported by most SVG renderers\n",
    "#    'svgfont': Embed characters as SVG fonts -- supported only by Chrome,\n",
    "#               Opera and Safari\n",
    "#svg.hashsalt : None           # if not None, use this string as hash salt\n",
    "                               # instead of uuid4\n",
    "\n",
    "# docstring params\n",
    "#docstring.hardcopy = False  # set this when you want to generate hardcopy docstring\n",
    "\n",
    "# Set the verbose flags.  This controls how much information\n",
    "# matplotlib gives you at runtime and where it goes.  The verbosity\n",
    "# levels are: silent, helpful, debug, debug-annoying.  Any level is\n",
    "# inclusive of all the levels below it.  If your setting is \"debug\",\n",
    "# you'll get all the debug and helpful messages.  When submitting\n",
    "# problems to the mailing-list, please set verbose to \"helpful\" or \"debug\"\n",
    "# and paste the output into your report.\n",
    "#\n",
    "# The \"fileo\" gives the destination for any calls to verbose.report.\n",
    "# These objects can a filename, or a filehandle like sys.stdout.\n",
    "#\n",
    "# You can override the rc default verbosity from the command line by\n",
    "# giving the flags --verbose-LEVEL where LEVEL is one of the legal\n",
    "# levels, e.g., --verbose-helpful.\n",
    "#\n",
    "# You can access the verbose instance in your code\n",
    "#   from matplotlib import verbose.\n",
    "#verbose.level  : silent      # one of silent, helpful, debug, debug-annoying\n",
    "#verbose.fileo  : sys.stdout  # a log filename, sys.stdout or sys.stderr\n",
    "\n",
    "# Event keys to interact with figures/plots via keyboard.\n",
    "# Customize these settings according to your needs.\n",
    "# Leave the field(s) empty if you don't need a key-map. (i.e., fullscreen : '')\n",
    "\n",
    "#keymap.fullscreen : f, ctrl+f       # toggling\n",
    "#keymap.home : h, r, home            # home or reset mnemonic\n",
    "#keymap.back : left, c, backspace    # forward / backward keys to enable\n",
    "#keymap.forward : right, v           #   left handed quick navigation\n",
    "#keymap.pan : p                      # pan mnemonic\n",
    "#keymap.zoom : o                     # zoom mnemonic\n",
    "#keymap.save : s                     # saving current figure\n",
    "#keymap.quit : ctrl+w, cmd+w         # close the current figure\n",
    "#keymap.grid : g                     # switching on/off a grid in current axes\n",
    "#keymap.yscale : l                   # toggle scaling of y-axes ('log'/'linear')\n",
    "#keymap.xscale : L, k                # toggle scaling of x-axes ('log'/'linear')\n",
    "#keymap.all_axes : a                 # enable all axes\n",
    "\n",
    "# Control location of examples data files\n",
    "#examples.directory : ''   # directory to look in for custom installation"
   ]
  },
  {
   "cell_type": "markdown",
   "metadata": {},
   "source": [
    "# ANIMATION settings"
   ]
  },
  {
   "cell_type": "code",
   "execution_count": 23,
   "metadata": {},
   "outputs": [],
   "source": [
    "#animation.html : 'none'           # How to display the animation as HTML in\n",
    "                                   # the IPython notebook. 'html5' uses\n",
    "                                   # HTML5 video tag.\n",
    "#animation.writer : ffmpeg         # MovieWriter 'backend' to use\n",
    "#animation.codec : h264            # Codec to use for writing movie\n",
    "#animation.bitrate: -1             # Controls size/quality tradeoff for movie.\n",
    "                                   # -1 implies let utility auto-determine\n",
    "#animation.frame_format: 'png'     # Controls frame format used by temp files\n",
    "#animation.ffmpeg_path: 'ffmpeg'   # Path to ffmpeg binary. Without full path\n",
    "                                   # $PATH is searched\n",
    "#animation.ffmpeg_args: ''         # Additional arguments to pass to ffmpeg\n",
    "#animation.avconv_path: 'avconv'   # Path to avconv binary. Without full path\n",
    "                                   # $PATH is searched\n",
    "#animation.avconv_args: ''         # Additional arguments to pass to avconv\n",
    "#animation.mencoder_path: 'mencoder'\n",
    "                                   # Path to mencoder binary. Without full path\n",
    "                                   # $PATH is searched\n",
    "#animation.mencoder_args: ''       # Additional arguments to pass to mencoder\n",
    "#animation.convert_path: 'convert' # Path to ImageMagick's convert binary.\n",
    "                                   # On Windows use the full path since convert\n",
    "                                   # is also the name of a system tool."
   ]
  },
  {
   "cell_type": "code",
   "execution_count": 24,
   "metadata": {},
   "outputs": [
    {
     "name": "stdout",
     "output_type": "stream",
     "text": [
      "[NbConvertApp] Converting notebook matplotlib_design_template.ipynb to markdown\n",
      "[NbConvertApp] Support files will be in matplotlib_design_template_files/\n",
      "[NbConvertApp] Making directory matplotlib_design_template_files\n",
      "[NbConvertApp] Writing 28970 bytes to matplotlib_design_template.md\n"
     ]
    }
   ],
   "source": [
    "# Convert this notebook to a README.\n",
    "!jupyter nbconvert --to markdown matplotlib_design_template.ipynb\n",
    "!mv matplotlib_design_template.md README.md"
   ]
  }
 ],
 "metadata": {
  "kernelspec": {
   "display_name": "Python 3",
   "language": "python",
   "name": "python3"
  },
  "language_info": {
   "codemirror_mode": {
    "name": "ipython",
    "version": 3
   },
   "file_extension": ".py",
   "mimetype": "text/x-python",
   "name": "python",
   "nbconvert_exporter": "python",
   "pygments_lexer": "ipython3",
   "version": "3.6.6"
  }
 },
 "nbformat": 4,
 "nbformat_minor": 2
}
